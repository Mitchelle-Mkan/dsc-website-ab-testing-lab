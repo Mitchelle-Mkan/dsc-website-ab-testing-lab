{
 "cells": [
  {
   "cell_type": "markdown",
   "metadata": {},
   "source": [
    "# Website A/B Testing - Lab\n",
    "\n",
    "## Introduction\n",
    "\n",
    "In this lab, you'll get another chance to practice your skills at conducting a full A/B test analysis. It will also be a chance to practice your data exploration and processing skills! The scenario you'll be investigating is data collected from the homepage of a music app page for audacity.\n",
    "\n",
    "## Objectives\n",
    "\n",
    "You will be able to:\n",
    "* Analyze the data from a website A/B test to draw relevant conclusions\n",
    "* Explore and analyze web action data"
   ]
  },
  {
   "cell_type": "markdown",
   "metadata": {},
   "source": [
    "## Exploratory Analysis\n",
    "\n",
    "Start by loading in the dataset stored in the file 'homepage_actions.csv'. Then conduct an exploratory analysis to get familiar with the data."
   ]
  },
  {
   "cell_type": "markdown",
   "metadata": {},
   "source": [
    "> Hints:\n",
    "    * Start investigating the id column:\n",
    "        * How many viewers also clicked?\n",
    "        * Are there any anomalies with the data; did anyone click who didn't view?\n",
    "        * Is there any overlap between the control and experiment groups? \n",
    "            * If so, how do you plan to account for this in your experimental design?"
   ]
  },
  {
   "cell_type": "code",
   "execution_count": 1,
   "metadata": {},
   "outputs": [
    {
     "name": "stdout",
     "output_type": "stream",
     "text": [
      "Shape of dataset: (8188, 4)\n",
      "\n",
      "First few rows:\n"
     ]
    },
    {
     "data": {
      "text/html": [
       "<div>\n",
       "<style scoped>\n",
       "    .dataframe tbody tr th:only-of-type {\n",
       "        vertical-align: middle;\n",
       "    }\n",
       "\n",
       "    .dataframe tbody tr th {\n",
       "        vertical-align: top;\n",
       "    }\n",
       "\n",
       "    .dataframe thead th {\n",
       "        text-align: right;\n",
       "    }\n",
       "</style>\n",
       "<table border=\"1\" class=\"dataframe\">\n",
       "  <thead>\n",
       "    <tr style=\"text-align: right;\">\n",
       "      <th></th>\n",
       "      <th>timestamp</th>\n",
       "      <th>id</th>\n",
       "      <th>group</th>\n",
       "      <th>action</th>\n",
       "    </tr>\n",
       "  </thead>\n",
       "  <tbody>\n",
       "    <tr>\n",
       "      <th>0</th>\n",
       "      <td>2016-09-24 17:42:27.839496</td>\n",
       "      <td>804196</td>\n",
       "      <td>experiment</td>\n",
       "      <td>view</td>\n",
       "    </tr>\n",
       "    <tr>\n",
       "      <th>1</th>\n",
       "      <td>2016-09-24 19:19:03.542569</td>\n",
       "      <td>434745</td>\n",
       "      <td>experiment</td>\n",
       "      <td>view</td>\n",
       "    </tr>\n",
       "    <tr>\n",
       "      <th>2</th>\n",
       "      <td>2016-09-24 19:36:00.944135</td>\n",
       "      <td>507599</td>\n",
       "      <td>experiment</td>\n",
       "      <td>view</td>\n",
       "    </tr>\n",
       "    <tr>\n",
       "      <th>3</th>\n",
       "      <td>2016-09-24 19:59:02.646620</td>\n",
       "      <td>671993</td>\n",
       "      <td>control</td>\n",
       "      <td>view</td>\n",
       "    </tr>\n",
       "    <tr>\n",
       "      <th>4</th>\n",
       "      <td>2016-09-24 20:26:14.466886</td>\n",
       "      <td>536734</td>\n",
       "      <td>experiment</td>\n",
       "      <td>view</td>\n",
       "    </tr>\n",
       "  </tbody>\n",
       "</table>\n",
       "</div>"
      ],
      "text/plain": [
       "                    timestamp      id       group action\n",
       "0  2016-09-24 17:42:27.839496  804196  experiment   view\n",
       "1  2016-09-24 19:19:03.542569  434745  experiment   view\n",
       "2  2016-09-24 19:36:00.944135  507599  experiment   view\n",
       "3  2016-09-24 19:59:02.646620  671993     control   view\n",
       "4  2016-09-24 20:26:14.466886  536734  experiment   view"
      ]
     },
     "metadata": {},
     "output_type": "display_data"
    },
    {
     "name": "stdout",
     "output_type": "stream",
     "text": [
      "\n",
      "Unique actions: ['view' 'click']\n",
      "\n",
      "Number of users who viewed and clicked: 1860\n",
      "\n",
      "Users who clicked without viewing: 0\n",
      "\n",
      "Number of users in BOTH groups (control & experiment): 0\n",
      "\n",
      "Suggestion: Exclude users who appear in both groups from the analysis, since their presence could bias results.\n"
     ]
    }
   ],
   "source": [
    "#Your code here\n",
    "# Import libraries\n",
    "import pandas as pd\n",
    "\n",
    "# Load dataset\n",
    "df = pd.read_csv(\"homepage_actions.csv\")\n",
    "\n",
    "# Quick look at the data\n",
    "print(\"Shape of dataset:\", df.shape)\n",
    "print(\"\\nFirst few rows:\")\n",
    "display(df.head())\n",
    "\n",
    "# Check unique actions\n",
    "print(\"\\nUnique actions:\", df['action'].unique())\n",
    "\n",
    "# 1. How many viewers also clicked?\n",
    "# Pivot table to see counts of each action by user\n",
    "user_actions = df.pivot_table(\n",
    "    index=\"id\",\n",
    "    columns=\"action\",\n",
    "    aggfunc=\"size\",\n",
    "    fill_value=0\n",
    ")\n",
    "\n",
    "# Add column to flag viewers who also clicked\n",
    "user_actions[\"view_and_click\"] = (user_actions[\"view\"] > 0) & (user_actions[\"click\"] > 0)\n",
    "print(\"\\nNumber of users who viewed and clicked:\", user_actions[\"view_and_click\"].sum())\n",
    "\n",
    "# 2. Did anyone click who didn’t view?\n",
    "click_without_view = user_actions[(user_actions[\"click\"] > 0) & (user_actions[\"view\"] == 0)]\n",
    "print(\"\\nUsers who clicked without viewing:\", len(click_without_view))\n",
    "\n",
    "# 3. Check overlap between control and experiment groups\n",
    "# Each user should only belong to one group ideally\n",
    "groups_per_user = df.groupby(\"id\")[\"group\"].nunique()\n",
    "overlap_users = groups_per_user[groups_per_user > 1]\n",
    "print(\"\\nNumber of users in BOTH groups (control & experiment):\", overlap_users.shape[0])\n",
    "\n",
    "# 4. Plan for overlap handling\n",
    "print(\"\\nSuggestion: Exclude users who appear in both groups from the analysis, \"\n",
    "      \"since their presence could bias results.\")\n"
   ]
  },
  {
   "cell_type": "markdown",
   "metadata": {},
   "source": [
    "## Conduct a Statistical Test\n",
    "\n",
    "Conduct a statistical test to determine whether the experimental homepage was more effective than that of the control group."
   ]
  },
  {
   "cell_type": "code",
   "execution_count": 2,
   "metadata": {},
   "outputs": [
    {
     "name": "stdout",
     "output_type": "stream",
     "text": [
      "Control group CTR: 0.2797118847539016\n",
      "Experiment group CTR: 0.3097463284379172\n",
      "\n",
      "Z-statistic: -2.618563885349469\n",
      "P-value: 0.008830075576595804\n",
      "✅ Reject the null hypothesis: The experimental homepage is significantly more effective.\n"
     ]
    }
   ],
   "source": [
    "#Your code here\n",
    "import statsmodels.api as sm\n",
    "from statsmodels.stats.proportion import proportions_ztest\n",
    "\n",
    "# Keep only view and click actions\n",
    "df_filtered = df[df[\"action\"].isin([\"view\", \"click\"])]\n",
    "\n",
    "# Create pivot by user and group\n",
    "user_group = df_filtered.pivot_table(\n",
    "    index=[\"id\", \"group\"],\n",
    "    columns=\"action\",\n",
    "    aggfunc=\"size\",\n",
    "    fill_value=0\n",
    ").reset_index()\n",
    "\n",
    "# A user is considered a \"click\" if they clicked at least once\n",
    "user_group[\"clicked\"] = (user_group[\"click\"] > 0).astype(int)\n",
    "\n",
    "# Separate control and experiment\n",
    "control = user_group[user_group[\"group\"] == \"control\"]\n",
    "experiment = user_group[user_group[\"group\"] == \"experiment\"]\n",
    "\n",
    "# Number of clicks in each group\n",
    "successes = [control[\"clicked\"].sum(), experiment[\"clicked\"].sum()]\n",
    "\n",
    "# Number of total users in each group\n",
    "nobs = [len(control), len(experiment)]\n",
    "\n",
    "print(\"Control group CTR:\", successes[0] / nobs[0])\n",
    "print(\"Experiment group CTR:\", successes[1] / nobs[1])\n",
    "\n",
    "# Two-proportion z-test\n",
    "stat, pval = proportions_ztest(successes, nobs)\n",
    "print(\"\\nZ-statistic:\", stat)\n",
    "print(\"P-value:\", pval)\n",
    "\n",
    "# Interpretation\n",
    "alpha = 0.05\n",
    "if pval < alpha:\n",
    "    print(\"✅ Reject the null hypothesis: The experimental homepage is significantly more effective.\")\n",
    "else:\n",
    "    print(\"❌ Fail to reject the null hypothesis: No significant difference between control and experiment.\")\n"
   ]
  },
  {
   "cell_type": "markdown",
   "metadata": {},
   "source": [
    "## Verifying Results\n",
    "\n",
    "One sensible formulation of the data to answer the hypothesis test above would be to create a binary variable representing each individual in the experiment and control group. This binary variable would represent whether or not that individual clicked on the homepage; 1 for they did and 0 if they did not. \n",
    "\n",
    "The variance for the number of successes in a sample of a binomial variable with n observations is given by:\n",
    "\n",
    "## $n\\bullet p (1-p)$\n",
    "\n",
    "Given this, perform 3 steps to verify the results of your statistical test:\n",
    "1. Calculate the expected number of clicks for the experiment group, if it had the same click-through rate as that of the control group. \n",
    "2. Calculate the number of standard deviations that the actual number of clicks was from this estimate. \n",
    "3. Finally, calculate a p-value using the normal distribution based on this z-score."
   ]
  },
  {
   "cell_type": "markdown",
   "metadata": {},
   "source": [
    "### Step 1:\n",
    "Calculate the expected number of clicks for the experiment group, if it had the same click-through rate as that of the control group. "
   ]
  },
  {
   "cell_type": "code",
   "execution_count": 3,
   "metadata": {},
   "outputs": [
    {
     "data": {
      "text/plain": [
       "838.0168067226891"
      ]
     },
     "execution_count": 3,
     "metadata": {},
     "output_type": "execute_result"
    }
   ],
   "source": [
    "#Your code here\n",
    "import numpy as np\n",
    "from scipy.stats import norm\n",
    "\n",
    "# Control CTR\n",
    "p_control = successes[0] / nobs[0]\n",
    "\n",
    "# Expected clicks in experiment if CTR same as control\n",
    "expected_clicks_exp = nobs[1] * p_control\n",
    "expected_clicks_exp\n"
   ]
  },
  {
   "cell_type": "markdown",
   "metadata": {},
   "source": [
    "### Step 2:\n",
    "Calculate the number of standard deviations that the actual number of clicks was from this estimate."
   ]
  },
  {
   "cell_type": "code",
   "execution_count": 4,
   "metadata": {},
   "outputs": [
    {
     "data": {
      "text/plain": [
       "3.6625360854823588"
      ]
     },
     "execution_count": 4,
     "metadata": {},
     "output_type": "execute_result"
    }
   ],
   "source": [
    "#Your code here\n",
    "# Observed clicks in experiment\n",
    "observed_clicks_exp = successes[1]\n",
    "\n",
    "# Standard deviation for binomial distribution\n",
    "std_dev = np.sqrt(nobs[1] * p_control * (1 - p_control))\n",
    "\n",
    "# Z-score\n",
    "z_score = (observed_clicks_exp - expected_clicks_exp) / std_dev\n",
    "z_score\n"
   ]
  },
  {
   "cell_type": "markdown",
   "metadata": {},
   "source": [
    "### Step 3: \n",
    "Finally, calculate a p-value using the normal distribution based on this z-score."
   ]
  },
  {
   "cell_type": "code",
   "execution_count": 5,
   "metadata": {},
   "outputs": [
    {
     "data": {
      "text/plain": [
       "0.0002497305601389943"
      ]
     },
     "execution_count": 5,
     "metadata": {},
     "output_type": "execute_result"
    }
   ],
   "source": [
    "#Your code here\n",
    "# Two-tailed test p-value\n",
    "p_value = 2 * (1 - norm.cdf(abs(z_score)))\n",
    "p_value\n"
   ]
  },
  {
   "cell_type": "markdown",
   "metadata": {},
   "source": [
    "### Analysis:\n",
    "\n",
    "Does this result roughly match that of the previous statistical test?\n",
    "\n",
    "> Comment: **Your analysis here**\n",
    "\n",
    "Yes. The analysis code is below\n"
   ]
  },
  {
   "cell_type": "code",
   "execution_count": 6,
   "metadata": {},
   "outputs": [
    {
     "name": "stdout",
     "output_type": "stream",
     "text": [
      "Z-score: 3.6625360854823588\n",
      "P-value: 0.0002497305601389943\n",
      "✅ Reject null: Experiment homepage is significantly different from control.\n"
     ]
    }
   ],
   "source": [
    "alpha = 0.05\n",
    "print(\"Z-score:\", z_score)\n",
    "print(\"P-value:\", p_value)\n",
    "\n",
    "if p_value < alpha:\n",
    "    print(\"✅ Reject null: Experiment homepage is significantly different from control.\")\n",
    "else:\n",
    "    print(\"❌ Fail to reject null: No significant difference.\")\n"
   ]
  },
  {
   "cell_type": "markdown",
   "metadata": {},
   "source": [
    "## Summary\n",
    "\n",
    "In this lab, you continued to get more practice designing and conducting AB tests. This required additional work preprocessing and formulating the initial problem in a suitable manner. Additionally, you also saw how to verify results, strengthening your knowledge of binomial variables, and reviewing initial statistical concepts of the central limit theorem, standard deviation, z-scores, and their accompanying p-values."
   ]
  }
 ],
 "metadata": {
  "kernelspec": {
   "display_name": "Python 3",
   "language": "python",
   "name": "python3"
  },
  "language_info": {
   "codemirror_mode": {
    "name": "ipython",
    "version": 3
   },
   "file_extension": ".py",
   "mimetype": "text/x-python",
   "name": "python",
   "nbconvert_exporter": "python",
   "pygments_lexer": "ipython3",
   "version": "3.8.5"
  }
 },
 "nbformat": 4,
 "nbformat_minor": 2
}
